{
 "cells": [
  {
   "cell_type": "markdown",
   "metadata": {},
   "source": [
    "Author: Lee Clemmer\n",
    "\n",
    "#Project 1: Test a Perceptual Phenomenon\n",
    "\n",
    "This project is part of the Udacity Data Analyst Nanodegree. \n",
    "\n",
    "\n",
    "##Statistics: The Science of Decisions Project Instructions\n",
    "\n",
    "_From [Project Documentation](http://bit.ly/1hHiz96)_\n",
    "\n",
    "\n",
    "###Background \n",
    "\n",
    "In a Stroop task, participants are presented with a list of words, with each word displayed in a color of ink. The participant’s task is to say out loud the color of the ink in which the word is printed. The task has two conditions: a congruent words condition, and an incongruent words condition. In the congruent words condition, the words being displayed are color words whose names match the colors in which they are printed: for example $\\color{red}{RED}$</span>, $\\color{blue}{BLUE}$. In the incongruent words condition, the words displayed are color words whose names do not match the colors in which they are printed: for example $\\color{green}{PURPLE}$, $\\color{purple}{ORANGE}$. In each case, we measure the time it takes to name the ink colors in equally-sized lists. Each participant will go through and record a time from each condition.\n",
    "\n",
    "###Questions for Investigation\n",
    "\n",
    "As a general note, be sure to keep a record of any resources that you use or refer to in the creation of your project. You will need to report your sources as part of the project submission.\n",
    "\n",
    "1. What is our independent variable? What is our dependent variable?\n",
    "2. What is an appropriate set of hypotheses for this task? What kind of statistical test do you expect to perform? Justify your choices.<br/>\n",
    "Now it’s your chance to try out the Stroop task for yourself. Go to [this link](https://www.google.com/url?q=https%3A%2F%2Ffaculty.washington.edu%2Fchudler%2Fjava%2Fready.html&sa=D&sntz=1&usg=AFQjCNGc_1cOHZy4iwBhM93xXvCImuQ1sQ), which has a Java-based applet for performing the Stroop task. Record the times that you received on the task (you do not need to submit your times to the site.) Now, download [this dataset](https://drive.google.com/file/d/0B9Yf01UaIbUgQXpYb2NhZ29yX1U/view?usp=sharing) which contains results from a number of participants in the task. Each row of the dataset contains the performance for one participant, with the first number their results on the congruent task and the second number their performance on the incongruent task.\n",
    "3. Report some descriptive statistics regarding this dataset. Include at least one measure of central tendency and at least one measure of variability.\n",
    "4. Provide one or two visualizations that show the distribution of the sample data. Write one or two sentences noting what you observe about the plot or plots.\n",
    "5. Now, perform the statistical test and report your results. What is your confidence level and your critical statistic value? Do you reject the null hypothesis or fail to reject it? Come to a conclusion in terms of the experiment task. Did the results match up with your expectations?\n",
    "6. Optional: What do you think is responsible for the effects observed? Can you think of an alternative or similar task that would result in a similar effect? Some research about the problem will be helpful for thinking about these two questions!\n"
   ]
  },
  {
   "cell_type": "markdown",
   "metadata": {},
   "source": [
    "#Findings\n",
    "##Variables\n",
    "\n",
    "The **independent variable** is the task condition, which is either the _congruent words condition_ or the _incongruent words condition_. The **dependent variable** is the _time it takes to name the ink colors in equally-sized lists_."
   ]
  },
  {
   "cell_type": "markdown",
   "metadata": {},
   "source": [
    "##Hypotheses and Statistical Tests\n",
    "\n",
    "An appropriate hypothesis would be that the average time it takes to name the ink colors is _longer for the incongruent words condition_. Thus our hypotheses to test would be as follows, given that $\\mu_{congruent}$ is the population average time in seconds for the congruent condition; $\\mu_{incongruent}$ is the population average time in seconds for the incongruent condition; and $\\mu_D$ is the average difference in time between the population means ($\\mu_{incongruent} - \\mu_{congruent}$) in seconds:\n",
    "\n",
    "$H_0$ (null hypothesis):\n",
    "\n",
    "$$\\mu_{incongruent} \\le \\mu_{congruent}$$\n",
    "\n",
    "$$\\mu_{incongruent - congruent} \\le 0$$\n",
    "\n",
    "$$\\mu_{D} \\le 0$$\n",
    "\n",
    "$H_A$ (alternative hypothesis): \n",
    "\n",
    "$$\\mu_{incongruent} > \\mu_{congruent}$$\n",
    "\n",
    "$$\\mu_{incongruent - congruent} > 0$$\n",
    "\n",
    "$$\\mu_{D} > 0$$\n",
    "\n",
    "To test the hypothesis, we may conduct a _one-tailed t test for dependent samples at an alpha level of $\\alpha < 0.05$_. This is an appropriate test given that we have two samples (and thus don't know the true standard deviation of the population) and that we wish to compare the means of each. We will conduct a one-tailed test because we believe the effect is directional; in other words we believe that it takes longer, on average, for subjects to name colors when the colors do not match the words. Finally, an alpha level of $\\alpha < 0.05$ is sufficient for our purposes to determine if there is a statistically significant difference between the means."
   ]
  },
  {
   "cell_type": "markdown",
   "metadata": {},
   "source": [
    "##Descriptive Statistics\n",
    "\n",
    "Relevant summary statistics for the given data set will be:\n",
    "\n",
    "* The mean of each sample\n",
    "\n",
    "* The mean of differences $M_D$\n",
    "\n",
    "* The sample standard deviation of differences $s_D$\n",
    "\n",
    "* The standard error $SE_D$ of $M_D$"
   ]
  },
  {
   "cell_type": "code",
   "execution_count": 1,
   "metadata": {
    "collapsed": false
   },
   "outputs": [
    {
     "data": {
      "text/html": [
       "<div style=\"max-height:1000px;max-width:1500px;overflow:auto;\">\n",
       "<table border=\"1\" class=\"dataframe\">\n",
       "  <thead>\n",
       "    <tr style=\"text-align: right;\">\n",
       "      <th></th>\n",
       "      <th>Congruent</th>\n",
       "      <th>Incongruent</th>\n",
       "      <th>Differences</th>\n",
       "    </tr>\n",
       "  </thead>\n",
       "  <tbody>\n",
       "    <tr>\n",
       "      <th>0 </th>\n",
       "      <td> 12.079</td>\n",
       "      <td> 19.278</td>\n",
       "      <td>  7.199</td>\n",
       "    </tr>\n",
       "    <tr>\n",
       "      <th>1 </th>\n",
       "      <td> 16.791</td>\n",
       "      <td> 18.741</td>\n",
       "      <td>  1.950</td>\n",
       "    </tr>\n",
       "    <tr>\n",
       "      <th>2 </th>\n",
       "      <td>  9.564</td>\n",
       "      <td> 21.214</td>\n",
       "      <td> 11.650</td>\n",
       "    </tr>\n",
       "    <tr>\n",
       "      <th>3 </th>\n",
       "      <td>  8.630</td>\n",
       "      <td> 15.687</td>\n",
       "      <td>  7.057</td>\n",
       "    </tr>\n",
       "    <tr>\n",
       "      <th>4 </th>\n",
       "      <td> 14.669</td>\n",
       "      <td> 22.803</td>\n",
       "      <td>  8.134</td>\n",
       "    </tr>\n",
       "    <tr>\n",
       "      <th>5 </th>\n",
       "      <td> 12.238</td>\n",
       "      <td> 20.878</td>\n",
       "      <td>  8.640</td>\n",
       "    </tr>\n",
       "    <tr>\n",
       "      <th>6 </th>\n",
       "      <td> 14.692</td>\n",
       "      <td> 24.572</td>\n",
       "      <td>  9.880</td>\n",
       "    </tr>\n",
       "    <tr>\n",
       "      <th>7 </th>\n",
       "      <td>  8.987</td>\n",
       "      <td> 17.394</td>\n",
       "      <td>  8.407</td>\n",
       "    </tr>\n",
       "    <tr>\n",
       "      <th>8 </th>\n",
       "      <td>  9.401</td>\n",
       "      <td> 20.762</td>\n",
       "      <td> 11.361</td>\n",
       "    </tr>\n",
       "    <tr>\n",
       "      <th>9 </th>\n",
       "      <td> 14.480</td>\n",
       "      <td> 26.282</td>\n",
       "      <td> 11.802</td>\n",
       "    </tr>\n",
       "    <tr>\n",
       "      <th>10</th>\n",
       "      <td> 22.328</td>\n",
       "      <td> 24.524</td>\n",
       "      <td>  2.196</td>\n",
       "    </tr>\n",
       "    <tr>\n",
       "      <th>11</th>\n",
       "      <td> 15.298</td>\n",
       "      <td> 18.644</td>\n",
       "      <td>  3.346</td>\n",
       "    </tr>\n",
       "    <tr>\n",
       "      <th>12</th>\n",
       "      <td> 15.073</td>\n",
       "      <td> 17.510</td>\n",
       "      <td>  2.437</td>\n",
       "    </tr>\n",
       "    <tr>\n",
       "      <th>13</th>\n",
       "      <td> 16.929</td>\n",
       "      <td> 20.330</td>\n",
       "      <td>  3.401</td>\n",
       "    </tr>\n",
       "    <tr>\n",
       "      <th>14</th>\n",
       "      <td> 18.200</td>\n",
       "      <td> 35.255</td>\n",
       "      <td> 17.055</td>\n",
       "    </tr>\n",
       "    <tr>\n",
       "      <th>15</th>\n",
       "      <td> 12.130</td>\n",
       "      <td> 22.158</td>\n",
       "      <td> 10.028</td>\n",
       "    </tr>\n",
       "    <tr>\n",
       "      <th>16</th>\n",
       "      <td> 18.495</td>\n",
       "      <td> 25.139</td>\n",
       "      <td>  6.644</td>\n",
       "    </tr>\n",
       "    <tr>\n",
       "      <th>17</th>\n",
       "      <td> 10.639</td>\n",
       "      <td> 20.429</td>\n",
       "      <td>  9.790</td>\n",
       "    </tr>\n",
       "    <tr>\n",
       "      <th>18</th>\n",
       "      <td> 11.344</td>\n",
       "      <td> 17.425</td>\n",
       "      <td>  6.081</td>\n",
       "    </tr>\n",
       "    <tr>\n",
       "      <th>19</th>\n",
       "      <td> 12.369</td>\n",
       "      <td> 34.288</td>\n",
       "      <td> 21.919</td>\n",
       "    </tr>\n",
       "    <tr>\n",
       "      <th>20</th>\n",
       "      <td> 12.944</td>\n",
       "      <td> 23.894</td>\n",
       "      <td> 10.950</td>\n",
       "    </tr>\n",
       "    <tr>\n",
       "      <th>21</th>\n",
       "      <td> 14.233</td>\n",
       "      <td> 17.960</td>\n",
       "      <td>  3.727</td>\n",
       "    </tr>\n",
       "    <tr>\n",
       "      <th>22</th>\n",
       "      <td> 19.710</td>\n",
       "      <td> 22.058</td>\n",
       "      <td>  2.348</td>\n",
       "    </tr>\n",
       "    <tr>\n",
       "      <th>23</th>\n",
       "      <td> 16.004</td>\n",
       "      <td> 21.157</td>\n",
       "      <td>  5.153</td>\n",
       "    </tr>\n",
       "  </tbody>\n",
       "</table>\n",
       "<p>24 rows × 3 columns</p>\n",
       "</div>"
      ],
      "text/plain": [
       "    Congruent  Incongruent  Differences\n",
       "0      12.079       19.278        7.199\n",
       "1      16.791       18.741        1.950\n",
       "2       9.564       21.214       11.650\n",
       "3       8.630       15.687        7.057\n",
       "4      14.669       22.803        8.134\n",
       "5      12.238       20.878        8.640\n",
       "6      14.692       24.572        9.880\n",
       "7       8.987       17.394        8.407\n",
       "8       9.401       20.762       11.361\n",
       "9      14.480       26.282       11.802\n",
       "10     22.328       24.524        2.196\n",
       "11     15.298       18.644        3.346\n",
       "12     15.073       17.510        2.437\n",
       "13     16.929       20.330        3.401\n",
       "14     18.200       35.255       17.055\n",
       "15     12.130       22.158       10.028\n",
       "16     18.495       25.139        6.644\n",
       "17     10.639       20.429        9.790\n",
       "18     11.344       17.425        6.081\n",
       "19     12.369       34.288       21.919\n",
       "20     12.944       23.894       10.950\n",
       "21     14.233       17.960        3.727\n",
       "22     19.710       22.058        2.348\n",
       "23     16.004       21.157        5.153\n",
       "\n",
       "[24 rows x 3 columns]"
      ]
     },
     "execution_count": 1,
     "metadata": {},
     "output_type": "execute_result"
    }
   ],
   "source": [
    "import pandas as pd\n",
    "\n",
    "# Load sample data\n",
    "df = pd.read_csv('stroopdata.csv')\n",
    "\n",
    "# Add column for differences\n",
    "df['Differences'] = df['Incongruent'] - df['Congruent']\n",
    "\n",
    "# Display data\n",
    "df"
   ]
  },
  {
   "cell_type": "code",
   "execution_count": 2,
   "metadata": {
    "collapsed": false
   },
   "outputs": [
    {
     "data": {
      "text/plain": [
       "14.051125000000004"
      ]
     },
     "execution_count": 2,
     "metadata": {},
     "output_type": "execute_result"
    }
   ],
   "source": [
    "# Mean time in seconds for Congruent condition\n",
    "m_c = df['Congruent'].mean()\n",
    "m_c"
   ]
  },
  {
   "cell_type": "code",
   "execution_count": 3,
   "metadata": {
    "collapsed": false
   },
   "outputs": [
    {
     "data": {
      "text/plain": [
       "22.015916666666669"
      ]
     },
     "execution_count": 3,
     "metadata": {},
     "output_type": "execute_result"
    }
   ],
   "source": [
    "# Mean time in seconds for Incongruent condition\n",
    "m_i = df['Incongruent'].mean()\n",
    "m_i"
   ]
  },
  {
   "cell_type": "code",
   "execution_count": 4,
   "metadata": {
    "collapsed": false
   },
   "outputs": [
    {
     "data": {
      "text/plain": [
       "7.9647916666666667"
      ]
     },
     "execution_count": 4,
     "metadata": {},
     "output_type": "execute_result"
    }
   ],
   "source": [
    "# Mean time in seconds of differences\n",
    "m_d = df['Differences'].mean()\n",
    "m_d"
   ]
  },
  {
   "cell_type": "code",
   "execution_count": 5,
   "metadata": {
    "collapsed": false
   },
   "outputs": [
    {
     "data": {
      "text/plain": [
       "4.8648269103590565"
      ]
     },
     "execution_count": 5,
     "metadata": {},
     "output_type": "execute_result"
    }
   ],
   "source": [
    "import numpy as np\n",
    "\n",
    "# Sample standard deviation of differences\n",
    "s_d = np.std(df['Differences'], ddof = 1)\n",
    "s_d"
   ]
  },
  {
   "cell_type": "code",
   "execution_count": 6,
   "metadata": {
    "collapsed": false
   },
   "outputs": [
    {
     "data": {
      "text/plain": [
       "0.9930286347783408"
      ]
     },
     "execution_count": 6,
     "metadata": {},
     "output_type": "execute_result"
    }
   ],
   "source": [
    "import math\n",
    "\n",
    "# Sample standard error of the mean of differences\n",
    "n = len(df['Differences'])\n",
    "se_d = s_d / math.sqrt(n)\n",
    "se_d"
   ]
  },
  {
   "cell_type": "markdown",
   "metadata": {},
   "source": [
    "Summary statistics:\n",
    "$$M_C = 14.05$$\n",
    "$$M_I = 22.16$$\n",
    "$$M_D = 7.96$$\n",
    "$$s_D = 4.86$$\n",
    "$$SE_D = 0.99$$\n",
    "\n",
    "The average time in seconds for subjects to name the ink color when the color matched the word was 14.05s, while it took subjects an average of 22.16s to name the color when the words did not match the ink colors. This represents an average increase of 7.96s with a standard deviation of 4.86s and standard error of 0.99s."
   ]
  },
  {
   "cell_type": "markdown",
   "metadata": {},
   "source": [
    "##Visualizations and Observations"
   ]
  },
  {
   "cell_type": "code",
   "execution_count": 7,
   "metadata": {
    "collapsed": false
   },
   "outputs": [
    {
     "data": {
      "text/plain": [
       "<matplotlib.text.Text at 0x10bbfcb90>"
      ]
     },
     "execution_count": 7,
     "metadata": {},
     "output_type": "execute_result"
    },
    {
     "data": {
      "image/png": "[encoded data removed]",
      "text/plain": [
       "<matplotlib.figure.Figure at 0x10ba547d0>"
      ]
     },
     "metadata": {},
     "output_type": "display_data"
    }
   ],
   "source": [
    "import matplotlib.pyplot as plt\n",
    "%matplotlib inline\n",
    "\n",
    "# Scatter plot of Congruent and Incongruent condition samples, as well as their means\n",
    "plt.scatter(df.index, df['Congruent'], c='blue', label='Congruent', marker='o')\n",
    "plt.scatter(df.index, df['Incongruent'], c='red', label='Incongruent')\n",
    "plt.ylabel('Time in seconds to name ink color')\n",
    "plt.xlabel('Subject')\n",
    "axes = plt.gca()\n",
    "axes.set_xlim([-1,len(df)])\n",
    "axes.set_ylim([0,50])\n",
    "plt.legend(loc=2)\n",
    "plt.title('Figure 1: Subject Condition Times')"
   ]
  },
  {
   "cell_type": "code",
   "execution_count": 8,
   "metadata": {
    "collapsed": false
   },
   "outputs": [
    {
     "data": {
      "text/plain": [
       "<matplotlib.text.Text at 0x10bd6ef10>"
      ]
     },
     "execution_count": 8,
     "metadata": {},
     "output_type": "execute_result"
    },
    {
     "data": {
      "image/png": "[encoded data removed]",
      "text/plain": [
       "<matplotlib.figure.Figure at 0x10b141890>"
      ]
     },
     "metadata": {},
     "output_type": "display_data"
    }
   ],
   "source": [
    "# Histogram of Congruent and Incongruent conditions\n",
    "plt.hist([df['Congruent'],df['Incongruent']],color=['blue','red'],label=['Congruent','Incongruent'])\n",
    "plt.ylabel('Frequency')\n",
    "plt.xlabel('Time in Seconds')\n",
    "plt.legend(loc=1)\n",
    "plt.title('Figure 2: Condition Histogram')"
   ]
  },
  {
   "cell_type": "markdown",
   "metadata": {},
   "source": [
    "Looking at the scatter plot of times (_Figure 1_) it took each subject to name ink colors for both the congruent and incongruent conditions, it appears that it took every subject _longer_ to name colors in the incongruent condition. Looking at the histogram (_Figure 2_) of time distributions for each condition, it appears that each condition may follow a normal distribution, although the sample size is too low to be certain. Times appear generally higher for the incongruent condition. "
   ]
  },
  {
   "cell_type": "markdown",
   "metadata": {},
   "source": [
    "##Statistical Test"
   ]
  },
  {
   "cell_type": "markdown",
   "metadata": {},
   "source": [
    "To determine if there is a difference between the two conditions, and whether there is a significant treatment effect, we will look at the t statistic:\n",
    "\n",
    "$$t = \\frac{M_I - M_C}{\\frac{s_D}{\\sqrt{n}}} = \\frac{M_D}{SE_D}$$"
   ]
  },
  {
   "cell_type": "code",
   "execution_count": 9,
   "metadata": {
    "collapsed": false
   },
   "outputs": [
    {
     "data": {
      "text/plain": [
       "8.0207069441099552"
      ]
     },
     "execution_count": 9,
     "metadata": {},
     "output_type": "execute_result"
    }
   ],
   "source": [
    "# The t statistic\n",
    "t = m_d / se_d\n",
    "t"
   ]
  },
  {
   "cell_type": "markdown",
   "metadata": {},
   "source": [
    "For a sample of size $n = 24$, the degress of freedom is 23, and therefore the t critical values for an (one-tailed) alpha level of $\\alpha < 0.05$ is $t^* = 1.714$. Thus we find that:\n",
    "\n",
    "$$t^* < t$$\n",
    "$$ or $$\n",
    "$$1.714 < 8.02$$\n",
    "\n",
    "Calculating the probability $p$ for $t = 8.02$ and degrees of freedom of 23, we can say that the difference in means $M_D$ is significant at $p < 0.0001$."
   ]
  },
  {
   "cell_type": "code",
   "execution_count": 10,
   "metadata": {
    "collapsed": false
   },
   "outputs": [
    {
     "data": {
      "text/plain": [
       "2.0545762453563872"
      ]
     },
     "execution_count": 10,
     "metadata": {},
     "output_type": "execute_result"
    }
   ],
   "source": [
    "# t critical value for alpha < 0.05 (two-tailed)\n",
    "t_critical = 2.069\n",
    "\n",
    "# Margin of Error\n",
    "moe = se_d * t_critical\n",
    "moe"
   ]
  },
  {
   "cell_type": "code",
   "execution_count": 11,
   "metadata": {
    "collapsed": false
   },
   "outputs": [
    {
     "data": {
      "text/plain": [
       "5.91021542131028"
      ]
     },
     "execution_count": 11,
     "metadata": {},
     "output_type": "execute_result"
    }
   ],
   "source": [
    "# Confidence Interval\n",
    "# Lower Limit\n",
    "ci_low = m_d - moe\n",
    "ci_low"
   ]
  },
  {
   "cell_type": "code",
   "execution_count": 12,
   "metadata": {
    "collapsed": false
   },
   "outputs": [
    {
     "data": {
      "text/plain": [
       "10.019367912023053"
      ]
     },
     "execution_count": 12,
     "metadata": {},
     "output_type": "execute_result"
    }
   ],
   "source": [
    "# Upper Limit\n",
    "ci_limit = m_d + moe\n",
    "ci_limit"
   ]
  },
  {
   "cell_type": "markdown",
   "metadata": {},
   "source": [
    "$M_D = 7.96s$ is our _point estimate_ for the true mean difference $\\mu_D$ (out of the population of differences) in time between the congruent and incongruent conditions, with a confidence interval of $(5.91s, 10.02s)$ or a Margin of Error $\\pm 2.05s$. \n",
    "\n",
    "**In other words, we can say that subjects take somewhere between 5.91 and 10.02 seconds longer to name ink colors when they do not match the words (incongruent condition). Because our results show a strong statistical signficance, we reject the null hypothesis.**\n",
    "\n",
    "The results confirm out expectations that is would take longer to name colors when they did not match the words."
   ]
  },
  {
   "cell_type": "markdown",
   "metadata": {},
   "source": [
    "##Further Research\n",
    "\n",
    "It appears plausible that there may be several reasons why it takes longer to name colors when it is incongruent with the word. \n",
    "\n",
    "For one, it may simply be faster to read words than name colors. Visual experience first needs to be \"translated\" into symbols (e.g. words), and thus it stands to reason that the act of translating visual cues (in this case colors) into words takes additional times. We could test this in several ways. We could test how well subjects do in naming colors of congruent words in two conditions: one in which they are explicitly told beforehand that the colors match the words; and ond in which they are told that the words and colors may not necessarily match (though they do). In the first condition subjects would then be free to simply read the words while in the latter they might process the color to \"check\" if they match the word. Another experiment might compare reading colors as in the congruent condition versus just reading a list of non-colored (black) color words (as was done in the original Stroop experiment). This might tell us if the addition of the color adds mental processing time. A third experiment that could shed further light on the issue is comparing naming colors of colored words versus naming the color of colored dots, where the word labels are entirely missing (also was also done in the original Stroop experiment). Yet another experiment might compare naming the objects (e.g. airplane, cup, etc.) shown by pictures against reading a list of object words.\n",
    "\n",
    "The other possibility is that of interference, where the subject is presented with conflicting information and has to resolve the conflict. In this case, the word may be RED but is colored blue, forcing the subject to resolve this conflict by discarding by discarding a piece of information. A similar experiment could be conducted with labeled objects, e.g. a picture of an airplane with the word 'Airplane' underneath. Here we might compare congruent versus incongruent labels. "
   ]
  },
  {
   "cell_type": "markdown",
   "metadata": {},
   "source": [
    "# Sources\n",
    "\n",
    "* _[Project Documentation](http://bit.ly/1hHiz96)_\n",
    "\n",
    "* _[Udacity Statistics Course](https://www.udacity.com/course/viewer#!/c-ud134-nd)_\n",
    "\n",
    "* _[OpenIntro Statistics 3rd Edition](https://www.openintro.org/stat/textbook.php?stat_book=os)_\n",
    "\n",
    "* _[Statistics Course Notes](http://www.math.montana.edu/~cherry/st412/pdf_files/CourseNotes5.pdf)_\n",
    "\n",
    "* _[t Table](https://s3.amazonaws.com/udacity-hosted-downloads/t-table.jpg)_\n",
    "\n",
    "* _[GraphPad](http://www.graphpad.com/quickcalcs/pValue2/)_\n",
    "\n",
    "* _[Studies of Interference in Serial Verbal Actions by J. Ridley Stroop](http://psychclassics.yorku.ca/Stroop/)_\n",
    "\n",
    "* _[Interactive Stroop Experiment](https://faculty.washington.edu/chudler/words.html#seffect)_\n",
    "\n",
    "* _[Stroop effect on Wikipedia](https://en.wikipedia.org/wiki/Stroop_effect)_\n",
    "\n",
    "* _[LaTeX Primer](http://www.maths.tcd.ie/~dwilkins/LaTeXPrimer/)_\n",
    "\n",
    "* _[matplotlib Documentation](http://matplotlib.org/contents.html)_"
   ]
  }
 ],
 "metadata": {
  "kernelspec": {
   "display_name": "Python 2",
   "language": "python",
   "name": "python2"
  },
  "language_info": {
   "codemirror_mode": {
    "name": "ipython",
    "version": 2
   },
   "file_extension": ".py",
   "mimetype": "text/x-python",
   "name": "python",
   "nbconvert_exporter": "python",
   "pygments_lexer": "ipython2",
   "version": "2.7.10"
  }
 },
 "nbformat": 4,
 "nbformat_minor": 0
}
